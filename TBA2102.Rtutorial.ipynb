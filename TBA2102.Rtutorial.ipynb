{
 "cells": [
  {
   "cell_type": "markdown",
   "id": "5c14a4d6",
   "metadata": {},
   "source": [
    "# TBA2102: Introduction to Business Analytics\n",
    "\n",
    "AY2020/21 Semester 2\n",
    "Tutorial 2 Assignment: R Basics\n",
    "Tutorial session: Tue 2 Feb 2021 8.30pm\n",
    "\n",
    "Page 1 of 6\n",
    "\n",
    "Instructions:\n",
    ">  * Prepare the answers for Section 1 for discussion during Tutorial 2 in Week 4.\n",
    ">  * The answers for questions in Section B will be discussed during Tutorial 3 in week 5.\n",
    "\n",
    "In this tutorial, we will review and apply concepts related to the Basics of R.\n",
    "\n",
    "*Section 1: R Basics (Answers to be discussed in class)\n",
    "R objects are assigned for each question 1a, 1b... 2a, 2b, etc... so their values are independent\n",
    "across questions.*\n",
    "\n",
    "1. What is the output for each of the following sets of codes?"
   ]
  },
  {
   "cell_type": "code",
   "execution_count": 2,
   "id": "3ca945e0",
   "metadata": {},
   "outputs": [
    {
     "data": {
      "text/html": [
       "'character'"
      ],
      "text/latex": [
       "'character'"
      ],
      "text/markdown": [
       "'character'"
      ],
      "text/plain": [
       "[1] \"character\""
      ]
     },
     "metadata": {},
     "output_type": "display_data"
    }
   ],
   "source": [
    "x<-\"2\"\n",
    "class(x)"
   ]
  },
  {
   "cell_type": "code",
   "execution_count": 4,
   "id": "71cf88e2",
   "metadata": {},
   "outputs": [
    {
     "data": {
      "text/html": [
       "'numeric'"
      ],
      "text/latex": [
       "'numeric'"
      ],
      "text/markdown": [
       "'numeric'"
      ],
      "text/plain": [
       "[1] \"numeric\""
      ]
     },
     "metadata": {},
     "output_type": "display_data"
    }
   ],
   "source": [
    "x<-4\n",
    "y<-10\n",
    "z<-y/x\n",
    "class(z)"
   ]
  },
  {
   "cell_type": "code",
   "execution_count": 5,
   "id": "605fb33e",
   "metadata": {},
   "outputs": [
    {
     "data": {
      "text/html": [
       "<ol class=list-inline>\n",
       "\t<li>36</li>\n",
       "\t<li>20</li>\n",
       "\t<li>10</li>\n",
       "</ol>\n"
      ],
      "text/latex": [
       "\\begin{enumerate*}\n",
       "\\item 36\n",
       "\\item 20\n",
       "\\item 10\n",
       "\\end{enumerate*}\n"
      ],
      "text/markdown": [
       "1. 36\n",
       "2. 20\n",
       "3. 10\n",
       "\n",
       "\n"
      ],
      "text/plain": [
       "[1] 36 20 10"
      ]
     },
     "metadata": {},
     "output_type": "display_data"
    }
   ],
   "source": [
    "y<-c(20,36,10)\n",
    "sort(y, decreasing = TRUE)  #Sort: values in ascending or descending fashion"
   ]
  },
  {
   "cell_type": "code",
   "execution_count": 6,
   "id": "4f705d74",
   "metadata": {},
   "outputs": [
    {
     "data": {
      "text/html": [
       "<ol class=list-inline>\n",
       "\t<li>3</li>\n",
       "\t<li>4</li>\n",
       "\t<li>5</li>\n",
       "\t<li>1</li>\n",
       "\t<li>2</li>\n",
       "</ol>\n"
      ],
      "text/latex": [
       "\\begin{enumerate*}\n",
       "\\item 3\n",
       "\\item 4\n",
       "\\item 5\n",
       "\\item 1\n",
       "\\item 2\n",
       "\\end{enumerate*}\n"
      ],
      "text/markdown": [
       "1. 3\n",
       "2. 4\n",
       "3. 5\n",
       "4. 1\n",
       "5. 2\n",
       "\n",
       "\n"
      ],
      "text/plain": [
       "[1] 3 4 5 1 2"
      ]
     },
     "metadata": {},
     "output_type": "display_data"
    }
   ],
   "source": [
    "y<-c(20,36,10,10,10)\n",
    "order(y, decreasing = FALSE) #Order: index/position of values. R index starts at 1 NOT 0"
   ]
  },
  {
   "cell_type": "code",
   "execution_count": 21,
   "id": "34c30ee8",
   "metadata": {},
   "outputs": [
    {
     "data": {
      "text/html": [
       "<ol class=list-inline>\n",
       "\t<li>3</li>\n",
       "\t<li>1</li>\n",
       "\t<li>2</li>\n",
       "\t<li>4</li>\n",
       "\t<li>5</li>\n",
       "</ol>\n"
      ],
      "text/latex": [
       "\\begin{enumerate*}\n",
       "\\item 3\n",
       "\\item 1\n",
       "\\item 2\n",
       "\\item 4\n",
       "\\item 5\n",
       "\\end{enumerate*}\n"
      ],
      "text/markdown": [
       "1. 3\n",
       "2. 1\n",
       "3. 2\n",
       "4. 4\n",
       "5. 5\n",
       "\n",
       "\n"
      ],
      "text/plain": [
       "[1] 3 1 2 4 5"
      ]
     },
     "metadata": {},
     "output_type": "display_data"
    }
   ],
   "source": [
    "y<-c(20,36,10,10,10)\n",
    "x<-c(2,3,1,4,5)\n",
    "order(x, y, decreasing = FALSE) \n",
    "# sort  x asc then y asc\n",
    "# return index to pos\n",
    "# result of y shown, not x"
   ]
  },
  {
   "cell_type": "code",
   "execution_count": 22,
   "id": "e42e12c7",
   "metadata": {},
   "outputs": [
    {
     "data": {
      "text/html": [
       "<table>\n",
       "<thead><tr><th scope=col>y</th><th scope=col>x</th></tr></thead>\n",
       "<tbody>\n",
       "\t<tr><td>20</td><td>2 </td></tr>\n",
       "\t<tr><td>36</td><td>3 </td></tr>\n",
       "\t<tr><td>10</td><td>1 </td></tr>\n",
       "\t<tr><td>10</td><td>4 </td></tr>\n",
       "\t<tr><td>10</td><td>5 </td></tr>\n",
       "</tbody>\n",
       "</table>\n"
      ],
      "text/latex": [
       "\\begin{tabular}{r|ll}\n",
       " y & x\\\\\n",
       "\\hline\n",
       "\t 20 & 2 \\\\\n",
       "\t 36 & 3 \\\\\n",
       "\t 10 & 1 \\\\\n",
       "\t 10 & 4 \\\\\n",
       "\t 10 & 5 \\\\\n",
       "\\end{tabular}\n"
      ],
      "text/markdown": [
       "\n",
       "| y | x |\n",
       "|---|---|\n",
       "| 20 | 2  |\n",
       "| 36 | 3  |\n",
       "| 10 | 1  |\n",
       "| 10 | 4  |\n",
       "| 10 | 5  |\n",
       "\n"
      ],
      "text/plain": [
       "  y  x\n",
       "1 20 2\n",
       "2 36 3\n",
       "3 10 1\n",
       "4 10 4\n",
       "5 10 5"
      ]
     },
     "metadata": {},
     "output_type": "display_data"
    },
    {
     "data": {
      "text/html": [
       "<table>\n",
       "<thead><tr><th></th><th scope=col>y</th><th scope=col>x</th></tr></thead>\n",
       "<tbody>\n",
       "\t<tr><th scope=row>5</th><td>10</td><td>5 </td></tr>\n",
       "\t<tr><th scope=row>4</th><td>10</td><td>4 </td></tr>\n",
       "\t<tr><th scope=row>2</th><td>36</td><td>3 </td></tr>\n",
       "\t<tr><th scope=row>1</th><td>20</td><td>2 </td></tr>\n",
       "\t<tr><th scope=row>3</th><td>10</td><td>1 </td></tr>\n",
       "</tbody>\n",
       "</table>\n"
      ],
      "text/latex": [
       "\\begin{tabular}{r|ll}\n",
       "  & y & x\\\\\n",
       "\\hline\n",
       "\t5 & 10 & 5 \\\\\n",
       "\t4 & 10 & 4 \\\\\n",
       "\t2 & 36 & 3 \\\\\n",
       "\t1 & 20 & 2 \\\\\n",
       "\t3 & 10 & 1 \\\\\n",
       "\\end{tabular}\n"
      ],
      "text/markdown": [
       "\n",
       "| <!--/--> | y | x |\n",
       "|---|---|---|\n",
       "| 5 | 10 | 5  |\n",
       "| 4 | 10 | 4  |\n",
       "| 2 | 36 | 3  |\n",
       "| 1 | 20 | 2  |\n",
       "| 3 | 10 | 1  |\n",
       "\n"
      ],
      "text/plain": [
       "  y  x\n",
       "5 10 5\n",
       "4 10 4\n",
       "2 36 3\n",
       "1 20 2\n",
       "3 10 1"
      ]
     },
     "metadata": {},
     "output_type": "display_data"
    }
   ],
   "source": [
    "y<-c(20,36,10,10,10)\n",
    "x<-c(2,3,1,4,5)\n",
    "z<-data.frame(cbind(y,x))\n",
    "z\n",
    "z[order(z$x, decreasing = TRUE),]"
   ]
  },
  {
   "cell_type": "code",
   "execution_count": 23,
   "id": "7e8b78e8",
   "metadata": {},
   "outputs": [
    {
     "data": {
      "text/html": [
       "TRUE"
      ],
      "text/latex": [
       "TRUE"
      ],
      "text/markdown": [
       "TRUE"
      ],
      "text/plain": [
       "[1] TRUE"
      ]
     },
     "metadata": {},
     "output_type": "display_data"
    }
   ],
   "source": [
    "size<-c(\"medium\", \"small\", \"big\", \"big\")\n",
    "size_fac<- factor(size, levels=c(\"small\",\"medium\",\"big\"), ordered=TRUE)\n",
    "size_fac[1] < size_fac[3]"
   ]
  },
  {
   "cell_type": "code",
   "execution_count": 25,
   "id": "baab30d6",
   "metadata": {},
   "outputs": [
    {
     "data": {
      "text/html": [
       "<ol class=list-inline>\n",
       "\t<li>3</li>\n",
       "\t<li>6</li>\n",
       "\t<li>8</li>\n",
       "</ol>\n"
      ],
      "text/latex": [
       "\\begin{enumerate*}\n",
       "\\item 3\n",
       "\\item 6\n",
       "\\item 8\n",
       "\\end{enumerate*}\n"
      ],
      "text/markdown": [
       "1. 3\n",
       "2. 6\n",
       "3. 8\n",
       "\n",
       "\n"
      ],
      "text/plain": [
       "[1] 3 6 8"
      ]
     },
     "metadata": {},
     "output_type": "display_data"
    },
    {
     "data": {
      "text/html": [
       "'numeric'"
      ],
      "text/latex": [
       "'numeric'"
      ],
      "text/markdown": [
       "'numeric'"
      ],
      "text/plain": [
       "[1] \"numeric\""
      ]
     },
     "metadata": {},
     "output_type": "display_data"
    }
   ],
   "source": [
    "C <- c(1,3,6,8,0,10)\n",
    "C[2:4]\n",
    "class(C)"
   ]
  },
  {
   "cell_type": "code",
   "execution_count": 38,
   "id": "1dccb211",
   "metadata": {},
   "outputs": [
    {
     "data": {
      "text/html": [
       "<table>\n",
       "<thead><tr><th></th><th scope=col>x</th><th scope=col>y</th></tr></thead>\n",
       "<tbody>\n",
       "\t<tr><th scope=row>5</th><td>e </td><td>10</td></tr>\n",
       "\t<tr><th scope=row>4</th><td>d </td><td> 8</td></tr>\n",
       "\t<tr><th scope=row>3</th><td>c </td><td> 6</td></tr>\n",
       "\t<tr><th scope=row>2</th><td>b </td><td> 4</td></tr>\n",
       "\t<tr><th scope=row>1</th><td>a </td><td> 1</td></tr>\n",
       "</tbody>\n",
       "</table>\n"
      ],
      "text/latex": [
       "\\begin{tabular}{r|ll}\n",
       "  & x & y\\\\\n",
       "\\hline\n",
       "\t5 & e  & 10\\\\\n",
       "\t4 & d  &  8\\\\\n",
       "\t3 & c  &  6\\\\\n",
       "\t2 & b  &  4\\\\\n",
       "\t1 & a  &  1\\\\\n",
       "\\end{tabular}\n"
      ],
      "text/markdown": [
       "\n",
       "| <!--/--> | x | y |\n",
       "|---|---|---|\n",
       "| 5 | e  | 10 |\n",
       "| 4 | d  |  8 |\n",
       "| 3 | c  |  6 |\n",
       "| 2 | b  |  4 |\n",
       "| 1 | a  |  1 |\n",
       "\n"
      ],
      "text/plain": [
       "  x y \n",
       "5 e 10\n",
       "4 d  8\n",
       "3 c  6\n",
       "2 b  4\n",
       "1 a  1"
      ]
     },
     "metadata": {},
     "output_type": "display_data"
    },
    {
     "name": "stdout",
     "output_type": "stream",
     "text": [
      "[1] \"class of col x:  character\"\n",
      "[1] \"class of col x:  numeric\"\n"
     ]
    }
   ],
   "source": [
    "df<-data.frame(x=c(\"a\",\"b\",\"c\",\"d\",\"e\"), y=c(1,4,6,8,10), stringsAsFactors=FALSE)\n",
    "df<-df[order(df$y, decreasing = TRUE),]\n",
    "df\n",
    "print(paste(\"class of col x: \",class(df$x)))\n",
    "print(paste(\"class of col x: \",class(df$y)))"
   ]
  },
  {
   "cell_type": "code",
   "execution_count": 47,
   "id": "6c59f9da",
   "metadata": {},
   "outputs": [
    {
     "name": "stdout",
     "output_type": "stream",
     "text": [
      "[1] \"select row 3 to 5, col y  6\" \"select row 3 to 5, col y  4\"\n",
      "[3] \"select row 3 to 5, col y  1\"\n",
      "[1] \"coerced class of col x:  integer\"\n"
     ]
    }
   ],
   "source": [
    "print(paste(\"select row 3 to 5, col y \",df[c(3:5),\"y\"])) \n",
    "df$y<-as.integer(df$y)\n",
    "print(paste(\"coerced class of col x: \",class(df$y))) "
   ]
  },
  {
   "cell_type": "code",
   "execution_count": 48,
   "id": "888641f5",
   "metadata": {},
   "outputs": [
    {
     "data": {
      "text/html": [
       "<table>\n",
       "<thead><tr><th></th><th scope=col>x</th></tr></thead>\n",
       "<tbody>\n",
       "\t<tr><th scope=row>5</th><td>e</td></tr>\n",
       "\t<tr><th scope=row>4</th><td>d</td></tr>\n",
       "</tbody>\n",
       "</table>\n"
      ],
      "text/latex": [
       "\\begin{tabular}{r|l}\n",
       "  & x\\\\\n",
       "\\hline\n",
       "\t5 & e\\\\\n",
       "\t4 & d\\\\\n",
       "\\end{tabular}\n"
      ],
      "text/markdown": [
       "\n",
       "| <!--/--> | x |\n",
       "|---|---|\n",
       "| 5 | e |\n",
       "| 4 | d |\n",
       "\n"
      ],
      "text/plain": [
       "  x\n",
       "5 e\n",
       "4 d"
      ]
     },
     "metadata": {},
     "output_type": "display_data"
    }
   ],
   "source": [
    "subset(df, y>6, select=x)"
   ]
  },
  {
   "cell_type": "markdown",
   "id": "f9d1c04f",
   "metadata": {},
   "source": [
    "## 2. For each question part below, what is the missing code (“?”) required to return the output?\n",
    "## If you think “?” can be blank, then type “blank” for your answer."
   ]
  },
  {
   "cell_type": "markdown",
   "id": "76e4b7d7",
   "metadata": {},
   "source": [
    "`vol <- c(109,59,56,97,86,40,39)`\n",
    "`**?** (vol, decreasing = TRUE)`\n",
    "[1] 1 4 5 2 3 6 7"
   ]
  },
  {
   "cell_type": "code",
   "execution_count": 49,
   "id": "94e4f314",
   "metadata": {},
   "outputs": [
    {
     "data": {
      "text/html": [
       "<ol class=list-inline>\n",
       "\t<li>1</li>\n",
       "\t<li>4</li>\n",
       "\t<li>5</li>\n",
       "\t<li>2</li>\n",
       "\t<li>3</li>\n",
       "\t<li>6</li>\n",
       "\t<li>7</li>\n",
       "</ol>\n"
      ],
      "text/latex": [
       "\\begin{enumerate*}\n",
       "\\item 1\n",
       "\\item 4\n",
       "\\item 5\n",
       "\\item 2\n",
       "\\item 3\n",
       "\\item 6\n",
       "\\item 7\n",
       "\\end{enumerate*}\n"
      ],
      "text/markdown": [
       "1. 1\n",
       "2. 4\n",
       "3. 5\n",
       "4. 2\n",
       "5. 3\n",
       "6. 6\n",
       "7. 7\n",
       "\n",
       "\n"
      ],
      "text/plain": [
       "[1] 1 4 5 2 3 6 7"
      ]
     },
     "metadata": {},
     "output_type": "display_data"
    }
   ],
   "source": [
    "vol <- c(109,59,56,97,86,40,39)\n",
    "order(vol, decreasing = TRUE)"
   ]
  },
  {
   "cell_type": "markdown",
   "id": "bf4bfb6a",
   "metadata": {},
   "source": [
    "`vol <- **?** *vol`\n",
    "`vol`\n",
    "[1] 218 118 112 194 172 80 "
   ]
  },
  {
   "cell_type": "code",
   "execution_count": 50,
   "id": "9c284000",
   "metadata": {},
   "outputs": [
    {
     "data": {
      "text/html": [
       "<ol class=list-inline>\n",
       "\t<li>218</li>\n",
       "\t<li>118</li>\n",
       "\t<li>112</li>\n",
       "\t<li>194</li>\n",
       "\t<li>172</li>\n",
       "\t<li>80</li>\n",
       "\t<li>78</li>\n",
       "</ol>\n"
      ],
      "text/latex": [
       "\\begin{enumerate*}\n",
       "\\item 218\n",
       "\\item 118\n",
       "\\item 112\n",
       "\\item 194\n",
       "\\item 172\n",
       "\\item 80\n",
       "\\item 78\n",
       "\\end{enumerate*}\n"
      ],
      "text/markdown": [
       "1. 218\n",
       "2. 118\n",
       "3. 112\n",
       "4. 194\n",
       "5. 172\n",
       "6. 80\n",
       "7. 78\n",
       "\n",
       "\n"
      ],
      "text/plain": [
       "[1] 218 118 112 194 172  80  78"
      ]
     },
     "metadata": {},
     "output_type": "display_data"
    }
   ],
   "source": [
    "vol <- 2 *vol\n",
    "vol"
   ]
  },
  {
   "cell_type": "markdown",
   "id": "1efd5ef2",
   "metadata": {},
   "source": [
    "`shop1<-list(c(\"A\", \"B\", \"C\"), c(30,50), c(500,1000))`\n",
    "`**?** (shop1) <- c(\"Product\", \"Cost\", \"Qty\")`\n",
    "`shop1[[\"Qty\"]]`\n",
    "[1] 500 1000"
   ]
  },
  {
   "cell_type": "code",
   "execution_count": 51,
   "id": "d60db328",
   "metadata": {},
   "outputs": [
    {
     "data": {
      "text/html": [
       "<ol class=list-inline>\n",
       "\t<li>500</li>\n",
       "\t<li>1000</li>\n",
       "</ol>\n"
      ],
      "text/latex": [
       "\\begin{enumerate*}\n",
       "\\item 500\n",
       "\\item 1000\n",
       "\\end{enumerate*}\n"
      ],
      "text/markdown": [
       "1. 500\n",
       "2. 1000\n",
       "\n",
       "\n"
      ],
      "text/plain": [
       "[1]  500 1000"
      ]
     },
     "metadata": {},
     "output_type": "display_data"
    }
   ],
   "source": [
    "shop1<-list(c(\"A\", \"B\", \"C\"), c(30,50), c(500,1000))\n",
    "names(shop1) <- c(\"Product\", \"Cost\", \"Qty\")\n",
    "shop1[[\"Qty\"]]"
   ]
  },
  {
   "cell_type": "markdown",
   "id": "c20fee8d",
   "metadata": {},
   "source": [
    "shop1$**?**\n",
    "[1] \"A\" \"B\" \"C\" \n",
    "\n",
    "shop1$**?**\n",
    "[1] 30"
   ]
  },
  {
   "cell_type": "code",
   "execution_count": 63,
   "id": "b90418aa",
   "metadata": {},
   "outputs": [
    {
     "data": {
      "text/html": [
       "<ol class=list-inline>\n",
       "\t<li>'A'</li>\n",
       "\t<li>'B'</li>\n",
       "\t<li>'C'</li>\n",
       "</ol>\n"
      ],
      "text/latex": [
       "\\begin{enumerate*}\n",
       "\\item 'A'\n",
       "\\item 'B'\n",
       "\\item 'C'\n",
       "\\end{enumerate*}\n"
      ],
      "text/markdown": [
       "1. 'A'\n",
       "2. 'B'\n",
       "3. 'C'\n",
       "\n",
       "\n"
      ],
      "text/plain": [
       "[1] \"A\" \"B\" \"C\""
      ]
     },
     "metadata": {},
     "output_type": "display_data"
    },
    {
     "data": {
      "text/html": [
       "<ol class=list-inline>\n",
       "\t<li>30</li>\n",
       "\t<li>50</li>\n",
       "</ol>\n"
      ],
      "text/latex": [
       "\\begin{enumerate*}\n",
       "\\item 30\n",
       "\\item 50\n",
       "\\end{enumerate*}\n"
      ],
      "text/markdown": [
       "1. 30\n",
       "2. 50\n",
       "\n",
       "\n"
      ],
      "text/plain": [
       "[1] 30 50"
      ]
     },
     "metadata": {},
     "output_type": "display_data"
    }
   ],
   "source": [
    "shop1$Product\n",
    "shop1$Cost"
   ]
  },
  {
   "cell_type": "markdown",
   "id": "e4385f99",
   "metadata": {},
   "source": [
    "`x<- c(\"w\",\"w\",\"e\",\"w\")\n",
    "y<-factor(x)\n",
    "? (y)<-c(\"east\",\"west\")\n",
    "y`\n",
    "[1] west west east west\n",
    "levels: east west"
   ]
  },
  {
   "cell_type": "code",
   "execution_count": 65,
   "id": "cacceb90",
   "metadata": {},
   "outputs": [
    {
     "data": {
      "text/html": [
       "<ol class=list-inline>\n",
       "\t<li>west</li>\n",
       "\t<li>west</li>\n",
       "\t<li>east</li>\n",
       "\t<li>west</li>\n",
       "</ol>\n",
       "\n",
       "<details>\n",
       "\t<summary style=display:list-item;cursor:pointer>\n",
       "\t\t<strong>Levels</strong>:\n",
       "\t</summary>\n",
       "\t<ol class=list-inline>\n",
       "\t\t<li>'east'</li>\n",
       "\t\t<li>'west'</li>\n",
       "\t</ol>\n",
       "</details>"
      ],
      "text/latex": [
       "\\begin{enumerate*}\n",
       "\\item west\n",
       "\\item west\n",
       "\\item east\n",
       "\\item west\n",
       "\\end{enumerate*}\n",
       "\n",
       "\\emph{Levels}: \\begin{enumerate*}\n",
       "\\item 'east'\n",
       "\\item 'west'\n",
       "\\end{enumerate*}\n"
      ],
      "text/markdown": [
       "1. west\n",
       "2. west\n",
       "3. east\n",
       "4. west\n",
       "\n",
       "\n",
       "\n",
       "**Levels**: 1. 'east'\n",
       "2. 'west'\n",
       "\n",
       "\n"
      ],
      "text/plain": [
       "[1] west west east west\n",
       "Levels: east west"
      ]
     },
     "metadata": {},
     "output_type": "display_data"
    }
   ],
   "source": [
    "x<- c(\"w\",\"w\",\"e\",\"w\")\n",
    "y<-factor(x)\n",
    "levels(y)<-c(\"east\",\"west\")\n",
    "y"
   ]
  },
  {
   "cell_type": "code",
   "execution_count": null,
   "id": "acdf27b7",
   "metadata": {},
   "outputs": [],
   "source": []
  },
  {
   "cell_type": "code",
   "execution_count": null,
   "id": "20c824c6",
   "metadata": {},
   "outputs": [],
   "source": []
  },
  {
   "cell_type": "code",
   "execution_count": null,
   "id": "acf4ea6f",
   "metadata": {},
   "outputs": [],
   "source": []
  },
  {
   "cell_type": "code",
   "execution_count": null,
   "id": "dd33c505",
   "metadata": {},
   "outputs": [],
   "source": []
  },
  {
   "cell_type": "code",
   "execution_count": null,
   "id": "573d8ca6",
   "metadata": {},
   "outputs": [],
   "source": []
  },
  {
   "cell_type": "code",
   "execution_count": null,
   "id": "1f17841c",
   "metadata": {},
   "outputs": [],
   "source": []
  }
 ],
 "metadata": {
  "kernelspec": {
   "display_name": "R",
   "language": "R",
   "name": "ir"
  },
  "language_info": {
   "codemirror_mode": "r",
   "file_extension": ".r",
   "mimetype": "text/x-r-source",
   "name": "R",
   "pygments_lexer": "r",
   "version": "3.6.1"
  }
 },
 "nbformat": 4,
 "nbformat_minor": 5
}
